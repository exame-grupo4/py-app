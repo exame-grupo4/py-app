{
 "cells": [
  {
   "cell_type": "code",
   "execution_count": 17,
   "metadata": {},
   "outputs": [],
   "source": [
    "import pandas as pd\n",
    "# import seaborn as sns\n",
    "# import matplotlib.pyplot as plt\n",
    "import os\n",
    "\n",
    "BASE_PATH = os.path.expanduser('~/Repos/gabrielcruzg3/college/py-app/')\n",
    "\n",
    "PATH_MICRODADOS = os.path.join('/home/g3/Repos/gabrielcruzg3/college/project/microdados_censo_da_educacao_superior_2023/dados/MICRODADOS_CADASTRO_CURSOS_2023.CSV')\n",
    "PATH_CURSOS_PREPROCESSADOS = os.path.join(BASE_PATH, 'data/cursos_preprocessados.csv')\n",
    "\n",
    "PATH_QUESTIONARIO = os.path.join(BASE_PATH, 'data/questionario.csv')\n",
    "PATH_AFINIDADE = os.path.join(BASE_PATH, 'data/afinidade.csv')\n",
    "\n",
    "PATH_TEMPLATE_HTML = os.path.join(BASE_PATH, 'app/static/templates/index.html')"
   ]
  },
  {
   "cell_type": "code",
   "execution_count": 19,
   "metadata": {},
   "outputs": [
    {
     "name": "stderr",
     "output_type": "stream",
     "text": [
      "/tmp/ipykernel_160800/2441865202.py:1: DtypeWarning: Columns (1,3,4,6) have mixed types. Specify dtype option on import or set low_memory=False.\n",
      "  df = pd.read_csv(PATH_MICRODADOS, sep=\";\", encoding=\"latin1\")\n"
     ]
    },
    {
     "data": {
      "text/html": [
       "<div>\n",
       "<style scoped>\n",
       "    .dataframe tbody tr th:only-of-type {\n",
       "        vertical-align: middle;\n",
       "    }\n",
       "\n",
       "    .dataframe tbody tr th {\n",
       "        vertical-align: top;\n",
       "    }\n",
       "\n",
       "    .dataframe thead th {\n",
       "        text-align: right;\n",
       "    }\n",
       "</style>\n",
       "<table border=\"1\" class=\"dataframe\">\n",
       "  <thead>\n",
       "    <tr style=\"text-align: right;\">\n",
       "      <th></th>\n",
       "      <th>NO_CINE_AREA_GERAL</th>\n",
       "    </tr>\n",
       "  </thead>\n",
       "  <tbody>\n",
       "    <tr>\n",
       "      <th>0</th>\n",
       "      <td>Programas básicos</td>\n",
       "    </tr>\n",
       "    <tr>\n",
       "      <th>4</th>\n",
       "      <td>Negócios, administração e direito</td>\n",
       "    </tr>\n",
       "    <tr>\n",
       "      <th>5</th>\n",
       "      <td>Ciências naturais, matemática e estatística</td>\n",
       "    </tr>\n",
       "    <tr>\n",
       "      <th>6</th>\n",
       "      <td>Educação</td>\n",
       "    </tr>\n",
       "    <tr>\n",
       "      <th>19</th>\n",
       "      <td>Ciências sociais, comunicação e informação</td>\n",
       "    </tr>\n",
       "    <tr>\n",
       "      <th>36</th>\n",
       "      <td>Engenharia, produção e construção</td>\n",
       "    </tr>\n",
       "    <tr>\n",
       "      <th>55</th>\n",
       "      <td>Computação e Tecnologias da Informação e Comun...</td>\n",
       "    </tr>\n",
       "    <tr>\n",
       "      <th>56</th>\n",
       "      <td>Serviços</td>\n",
       "    </tr>\n",
       "    <tr>\n",
       "      <th>215</th>\n",
       "      <td>Artes e humanidades</td>\n",
       "    </tr>\n",
       "    <tr>\n",
       "      <th>507</th>\n",
       "      <td>Agricultura, silvicultura, pesca e veterinária</td>\n",
       "    </tr>\n",
       "    <tr>\n",
       "      <th>508</th>\n",
       "      <td>Saúde e bem-estar</td>\n",
       "    </tr>\n",
       "  </tbody>\n",
       "</table>\n",
       "</div>"
      ],
      "text/plain": [
       "                                    NO_CINE_AREA_GERAL\n",
       "0                                    Programas básicos\n",
       "4                    Negócios, administração e direito\n",
       "5          Ciências naturais, matemática e estatística\n",
       "6                                             Educação\n",
       "19          Ciências sociais, comunicação e informação\n",
       "36                   Engenharia, produção e construção\n",
       "55   Computação e Tecnologias da Informação e Comun...\n",
       "56                                            Serviços\n",
       "215                                Artes e humanidades\n",
       "507     Agricultura, silvicultura, pesca e veterinária\n",
       "508                                  Saúde e bem-estar"
      ]
     },
     "metadata": {},
     "output_type": "display_data"
    }
   ],
   "source": [
    "df = pd.read_csv(PATH_MICRODADOS, sep=\";\", encoding=\"latin1\")\n",
    "df = df[[\"NO_CINE_AREA_GERAL\", \"CO_CINE_AREA_GERAL\"]]\n",
    "df = df.drop_duplicates(subset=\"CO_CINE_AREA_GERAL\")\n",
    "df = df[[\"NO_CINE_AREA_GERAL\"]]\n",
    "display(df)"
   ]
  }
 ],
 "metadata": {
  "kernelspec": {
   "display_name": ".venv",
   "language": "python",
   "name": "python3"
  },
  "language_info": {
   "codemirror_mode": {
    "name": "ipython",
    "version": 3
   },
   "file_extension": ".py",
   "mimetype": "text/x-python",
   "name": "python",
   "nbconvert_exporter": "python",
   "pygments_lexer": "ipython3",
   "version": "3.12.3"
  }
 },
 "nbformat": 4,
 "nbformat_minor": 2
}
